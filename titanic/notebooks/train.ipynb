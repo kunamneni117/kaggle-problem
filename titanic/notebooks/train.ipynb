{
 "cells": [
  {
   "cell_type": "markdown",
   "metadata": {},
   "source": [
    "# ITERATION 1"
   ]
  },
  {
   "cell_type": "code",
   "execution_count": 4,
   "metadata": {},
   "outputs": [
    {
     "name": "stdout",
     "output_type": "stream",
     "text": [
      ".\\dataset\\input\\gender_submission.csv\n",
      ".\\dataset\\input\\test.csv\n",
      ".\\dataset\\input\\train.csv\n",
      ".\\dataset\\output\\submission.csv\n"
     ]
    }
   ],
   "source": [
    "import os\n",
    "for directory,_,files in os.walk('.\\dataset'):\n",
    "    for file in files:\n",
    "        print(os.path.join(directory,file))"
   ]
  },
  {
   "cell_type": "code",
   "execution_count": 6,
   "metadata": {},
   "outputs": [],
   "source": [
    "import pandas as pd\n",
    "train_path = \"./dataset/input/train.csv\"\n",
    "test_path  = \"./dataset/input/test.csv\"\n",
    "\n",
    "train = pd.read_csv(train_path)\n",
    "test = pd.read_csv(test_path)"
   ]
  },
  {
   "cell_type": "code",
   "execution_count": 5,
   "metadata": {},
   "outputs": [
    {
     "name": "stdout",
     "output_type": "stream",
     "text": [
      "<class 'pandas.core.frame.DataFrame'>\n",
      "RangeIndex: 891 entries, 0 to 890\n",
      "Data columns (total 12 columns):\n",
      " #   Column       Non-Null Count  Dtype  \n",
      "---  ------       --------------  -----  \n",
      " 0   PassengerId  891 non-null    int64  \n",
      " 1   Survived     891 non-null    int64  \n",
      " 2   Pclass       891 non-null    int64  \n",
      " 3   Name         891 non-null    object \n",
      " 4   Sex          891 non-null    object \n",
      " 5   Age          714 non-null    float64\n",
      " 6   SibSp        891 non-null    int64  \n",
      " 7   Parch        891 non-null    int64  \n",
      " 8   Ticket       891 non-null    object \n",
      " 9   Fare         891 non-null    float64\n",
      " 10  Cabin        204 non-null    object \n",
      " 11  Embarked     889 non-null    object \n",
      "dtypes: float64(2), int64(5), object(5)\n",
      "memory usage: 83.7+ KB\n",
      "None\n"
     ]
    }
   ],
   "source": [
    "print(train.info())"
   ]
  },
  {
   "cell_type": "code",
   "execution_count": 6,
   "metadata": {},
   "outputs": [
    {
     "name": "stdout",
     "output_type": "stream",
     "text": [
      "--------\n",
      "Percentage of NA per property sorted\n",
      "--------\n",
      "Cabin          77.104377\n",
      "Age            19.865320\n",
      "Embarked        0.224467\n",
      "PassengerId     0.000000\n",
      "Survived        0.000000\n",
      "Pclass          0.000000\n",
      "Name            0.000000\n",
      "Sex             0.000000\n",
      "SibSp           0.000000\n",
      "Parch           0.000000\n",
      "Ticket          0.000000\n",
      "Fare            0.000000\n",
      "dtype: float64\n",
      "--------\n",
      "Unique values for duplications and other useful info\n",
      "--------\n",
      "Survived         2\n",
      "Sex              2\n",
      "Pclass           3\n",
      "Embarked         3\n",
      "SibSp            7\n",
      "Parch            7\n",
      "Age             88\n",
      "Cabin          147\n",
      "Fare           248\n",
      "Ticket         681\n",
      "PassengerId    891\n",
      "Name           891\n",
      "dtype: int64\n"
     ]
    }
   ],
   "source": [
    "print('--------')\n",
    "print('Percentage of NA per property sorted')\n",
    "print('--------')\n",
    "p = (train.isna().sum()/len(train)*100).sort_values(ascending=False)\n",
    "print(p)\n",
    "print('--------')\n",
    "print('Unique values for duplications and other useful info')\n",
    "print('--------')\n",
    "u = train.nunique().sort_values()\n",
    "print(u)"
   ]
  },
  {
   "cell_type": "code",
   "execution_count": 7,
   "metadata": {},
   "outputs": [
    {
     "data": {
      "text/plain": [
       "S    644\n",
       "C    168\n",
       "Q     77\n",
       "Name: Embarked, dtype: int64"
      ]
     },
     "execution_count": 7,
     "metadata": {},
     "output_type": "execute_result"
    }
   ],
   "source": [
    "train['Embarked'].value_counts()"
   ]
  },
  {
   "cell_type": "code",
   "execution_count": 8,
   "metadata": {},
   "outputs": [
    {
     "data": {
      "text/plain": [
       "347082      7\n",
       "CA. 2343    7\n",
       "1601        7\n",
       "3101295     6\n",
       "CA 2144     6\n",
       "           ..\n",
       "9234        1\n",
       "19988       1\n",
       "2693        1\n",
       "PC 17612    1\n",
       "370376      1\n",
       "Name: Ticket, Length: 681, dtype: int64"
      ]
     },
     "execution_count": 8,
     "metadata": {},
     "output_type": "execute_result"
    }
   ],
   "source": [
    "train['Ticket'].value_counts()"
   ]
  },
  {
   "cell_type": "code",
   "execution_count": 12,
   "metadata": {},
   "outputs": [],
   "source": [
    "from sklearn import preprocessing\n",
    "\n",
    "def cleanData(data):    \n",
    "    # Data missing and categorical to drop\n",
    "    data.drop(['Cabin','Name','Ticket'], axis=1, inplace=True)\n",
    "\n",
    "    # Data missing Case2\n",
    "    data['Age'] = data.groupby(['Pclass','Sex'])['Age'].transform(lambda x: x.fillna(x.median()))\n",
    "    \n",
    "    # FARE Data missing in test\n",
    "    data['Fare'] = data.groupby(['Pclass','Sex'])['Fare'].transform(lambda x: x.fillna(x.median()))\n",
    "\n",
    "    # Data missing Case3\n",
    "    data.dropna(axis=0, subset=['Embarked'], inplace=True)\n",
    "    \n",
    "    # Categorical Data\n",
    "    le = preprocessing.LabelEncoder()\n",
    "    \n",
    "    # Sex\n",
    "    data['Sex'].replace({'male':0, 'female':1}, inplace=True)\n",
    "    \n",
    "    # Embarked\n",
    "    data['Embarked'].replace({'S':0, 'C':1, 'Q':2}, inplace=True)\n",
    "    \n",
    "    return data"
   ]
  },
  {
   "cell_type": "code",
   "execution_count": 13,
   "metadata": {},
   "outputs": [],
   "source": [
    "clean_train = cleanData(train)\n",
    "clean_test = cleanData(test)"
   ]
  },
  {
   "cell_type": "code",
   "execution_count": 14,
   "metadata": {},
   "outputs": [
    {
     "name": "stdout",
     "output_type": "stream",
     "text": [
      "<class 'pandas.core.frame.DataFrame'>\n",
      "Int64Index: 889 entries, 0 to 890\n",
      "Data columns (total 9 columns):\n",
      " #   Column       Non-Null Count  Dtype  \n",
      "---  ------       --------------  -----  \n",
      " 0   PassengerId  889 non-null    int64  \n",
      " 1   Survived     889 non-null    int64  \n",
      " 2   Pclass       889 non-null    int64  \n",
      " 3   Sex          889 non-null    int64  \n",
      " 4   Age          889 non-null    float64\n",
      " 5   SibSp        889 non-null    int64  \n",
      " 6   Parch        889 non-null    int64  \n",
      " 7   Fare         889 non-null    float64\n",
      " 8   Embarked     889 non-null    int64  \n",
      "dtypes: float64(2), int64(7)\n",
      "memory usage: 69.5 KB\n",
      "None\n",
      "<class 'pandas.core.frame.DataFrame'>\n",
      "Int64Index: 418 entries, 0 to 417\n",
      "Data columns (total 8 columns):\n",
      " #   Column       Non-Null Count  Dtype  \n",
      "---  ------       --------------  -----  \n",
      " 0   PassengerId  418 non-null    int64  \n",
      " 1   Pclass       418 non-null    int64  \n",
      " 2   Sex          418 non-null    int64  \n",
      " 3   Age          418 non-null    float64\n",
      " 4   SibSp        418 non-null    int64  \n",
      " 5   Parch        418 non-null    int64  \n",
      " 6   Fare         418 non-null    float64\n",
      " 7   Embarked     418 non-null    int64  \n",
      "dtypes: float64(2), int64(6)\n",
      "memory usage: 29.4 KB\n",
      "None\n"
     ]
    }
   ],
   "source": [
    "print(clean_train.info())\n",
    "print(clean_test.info())"
   ]
  },
  {
   "cell_type": "code",
   "execution_count": 17,
   "metadata": {},
   "outputs": [],
   "source": [
    "from sklearn import model_selection\n",
    "# Set X and y\n",
    "y = train['Survived']\n",
    "X = pd.get_dummies(train.drop('Survived', axis=1))\n",
    "\n",
    "# Split model train test data\n",
    "X_train, X_val, y_train, y_val = model_selection.train_test_split(X,y, test_size=0.2, random_state=42)"
   ]
  },
  {
   "cell_type": "code",
   "execution_count": 19,
   "metadata": {},
   "outputs": [
    {
     "name": "stdout",
     "output_type": "stream",
     "text": [
      "Model  1 : LogisticRegression(random_state=42, solver='liblinear')\n",
      "ACC:  0.797752808988764\n",
      "Model  2 : GradientBoostingClassifier()\n",
      "ACC:  0.8202247191011236\n",
      "Model  3 : RandomForestClassifier()\n",
      "ACC:  0.797752808988764\n",
      "Model  4 : SGDClassifier()\n",
      "ACC:  0.7303370786516854\n",
      "Model  5 : SVC()\n",
      "ACC:  0.6348314606741573\n"
     ]
    }
   ],
   "source": [
    "from sklearn import metrics\n",
    "def fitAndPredict(model):\n",
    "    \"\"\"The following code makes faster to evaluate a model \n",
    "    automating the fit and accuracy process\"\"\"\n",
    "    \n",
    "    model.fit(X_train, y_train)\n",
    "    prediction = model.predict(X_val)\n",
    "    return metrics.accuracy_score(y_val, prediction)\n",
    "\n",
    "from sklearn.linear_model import LogisticRegression\n",
    "from sklearn.ensemble import GradientBoostingClassifier\n",
    "from sklearn.ensemble import RandomForestClassifier\n",
    "from sklearn.linear_model import SGDClassifier\n",
    "from sklearn.svm import SVC\n",
    "\n",
    "#Lets some models\n",
    "model1 = LogisticRegression(solver='liblinear', random_state=42)\n",
    "model2 = GradientBoostingClassifier()\n",
    "model3 = RandomForestClassifier()\n",
    "model4 = SGDClassifier()\n",
    "model5 = SVC()\n",
    "\n",
    "models = [model1, model2, model3, model4, model5]\n",
    "i = 0\n",
    "for model in models:\n",
    "    i +=1\n",
    "    print(\"Model \", i,\":\", model)\n",
    "    print(\"ACC: \", fitAndPredict(model))"
   ]
  },
  {
   "cell_type": "code",
   "execution_count": 20,
   "metadata": {},
   "outputs": [
    {
     "data": {
      "text/plain": [
       "0.8370786516853933"
      ]
     },
     "execution_count": 20,
     "metadata": {},
     "output_type": "execute_result"
    }
   ],
   "source": [
    "model = GradientBoostingClassifier(min_samples_split=20, min_samples_leaf=60, max_depth=3, max_features=7)\n",
    "fitAndPredict(model)"
   ]
  },
  {
   "cell_type": "code",
   "execution_count": 23,
   "metadata": {},
   "outputs": [
    {
     "name": "stdout",
     "output_type": "stream",
     "text": [
      "Submission saved\n"
     ]
    }
   ],
   "source": [
    "predict = model.predict(pd.get_dummies(clean_test))\n",
    "\n",
    "output = pd.DataFrame({'PassengerId': clean_test.PassengerId, 'Survived': predict})\n",
    "output.to_csv('./output/submission.csv', index=False)\n",
    "print(\"Submission saved\")"
   ]
  },
  {
   "cell_type": "markdown",
   "metadata": {},
   "source": [
    "# ITERATION 2"
   ]
  },
  {
   "cell_type": "code",
   "execution_count": 1,
   "metadata": {},
   "outputs": [
    {
     "name": "stdout",
     "output_type": "stream",
     "text": [
      ".\\dataset\\input\\gender_submission.csv\n",
      ".\\dataset\\input\\test.csv\n",
      ".\\dataset\\input\\train.csv\n"
     ]
    }
   ],
   "source": [
    "import numpy as np # linear algebra\n",
    "import pandas as pd # data processing, CSV file I/O (e.g. pd.read_csv)\n",
    "\n",
    "# Input data files are available in the read-only \"../input/\" directory\n",
    "# For example, running this (by clicking run or pressing Shift+Enter) will list all files under the input directory\n",
    "\n",
    "import os\n",
    "for dirname, _, filenames in os.walk('.\\dataset\\input'):\n",
    "    for filename in filenames:\n",
    "        print(os.path.join(dirname, filename))"
   ]
  },
  {
   "cell_type": "code",
   "execution_count": 8,
   "metadata": {},
   "outputs": [],
   "source": [
    "import category_encoders as encoders\n",
    "from pandas.api.types import is_numeric_dtype\n",
    "\n",
    "from imblearn.over_sampling import SMOTE\n",
    "from sklearn import model_selection, metrics\n",
    "from sklearn.linear_model import LogisticRegression\n",
    "from sklearn.ensemble import RandomForestClassifier"
   ]
  },
  {
   "cell_type": "code",
   "execution_count": 2,
   "metadata": {},
   "outputs": [],
   "source": [
    "train_path = \"./dataset/input/train.csv\"\n",
    "test_path  = \"./dataset/input/test.csv\"\n",
    "\n",
    "df_train = pd.read_csv(train_path)\n",
    "df_test = pd.read_csv(test_path)"
   ]
  },
  {
   "cell_type": "code",
   "execution_count": 3,
   "metadata": {},
   "outputs": [
    {
     "name": "stdout",
     "output_type": "stream",
     "text": [
      "<class 'pandas.core.frame.DataFrame'>\n",
      "RangeIndex: 891 entries, 0 to 890\n",
      "Data columns (total 12 columns):\n",
      " #   Column       Non-Null Count  Dtype  \n",
      "---  ------       --------------  -----  \n",
      " 0   PassengerId  891 non-null    int64  \n",
      " 1   Survived     891 non-null    int64  \n",
      " 2   Pclass       891 non-null    int64  \n",
      " 3   Name         891 non-null    object \n",
      " 4   Sex          891 non-null    object \n",
      " 5   Age          714 non-null    float64\n",
      " 6   SibSp        891 non-null    int64  \n",
      " 7   Parch        891 non-null    int64  \n",
      " 8   Ticket       891 non-null    object \n",
      " 9   Fare         891 non-null    float64\n",
      " 10  Cabin        204 non-null    object \n",
      " 11  Embarked     889 non-null    object \n",
      "dtypes: float64(2), int64(5), object(5)\n",
      "memory usage: 83.7+ KB\n",
      "None\n",
      "Size of Train data set = (891, 12)\n"
     ]
    }
   ],
   "source": [
    "print(df_train.info())\n",
    "print('Size of Train data set = {}'.format(df_train.shape))"
   ]
  },
  {
   "cell_type": "code",
   "execution_count": 4,
   "metadata": {},
   "outputs": [
    {
     "name": "stdout",
     "output_type": "stream",
     "text": [
      "<class 'pandas.core.frame.DataFrame'>\n",
      "RangeIndex: 891 entries, 0 to 890\n",
      "Data columns (total 8 columns):\n",
      " #   Column    Non-Null Count  Dtype  \n",
      "---  ------    --------------  -----  \n",
      " 0   Survived  891 non-null    int64  \n",
      " 1   Pclass    891 non-null    int64  \n",
      " 2   Sex       891 non-null    object \n",
      " 3   Age       714 non-null    float64\n",
      " 4   SibSp     891 non-null    int64  \n",
      " 5   Parch     891 non-null    int64  \n",
      " 6   Fare      891 non-null    float64\n",
      " 7   Embarked  889 non-null    object \n",
      "dtypes: float64(2), int64(4), object(2)\n",
      "memory usage: 55.8+ KB\n",
      "None\n"
     ]
    }
   ],
   "source": [
    "# Delete columns with unique identifiers\n",
    "col_lst = ['PassengerId', 'Name', 'Ticket', 'Cabin']\n",
    "df_train.drop(col_lst, axis = 1, inplace=True)\n",
    "print(df_train.info())"
   ]
  },
  {
   "cell_type": "code",
   "execution_count": 5,
   "metadata": {},
   "outputs": [
    {
     "name": "stdout",
     "output_type": "stream",
     "text": [
      "Survived     0.000000\n",
      "Pclass       0.000000\n",
      "Sex          0.000000\n",
      "Age         19.865320\n",
      "SibSp        0.000000\n",
      "Parch        0.000000\n",
      "Fare         0.000000\n",
      "Embarked     0.224467\n",
      "dtype: float64\n"
     ]
    }
   ],
   "source": [
    "print(df_train.isnull().sum()/len(df_train)*100)"
   ]
  },
  {
   "cell_type": "code",
   "execution_count": 6,
   "metadata": {},
   "outputs": [
    {
     "name": "stdout",
     "output_type": "stream",
     "text": [
      "Median = 28.0\n",
      "No. of records with non-null Age = 714\n",
      "====Age of Median 28.0 with 177 Null Records====\n"
     ]
    }
   ],
   "source": [
    "fare_median = df_train[(df_train['Fare']>0) & (df_train['Fare'].isnull() == False)]['Fare'].median()\n",
    "age_median = df_train[(df_train['Age']>0) & (df_train['Age'].isnull() == False)]['Age'].median()\n",
    "print('Median = {}'.format(age_median))\n",
    "print('No. of records with non-null Age = {}'.format(df_train[(df_train['Age']>0) & (df_train['Age'].isnull() == False)]['Age'].count()))\n",
    "print('===={} of Median {} with {} Null Records===='.format('Age', age_median, df_train[(df_train['Age'].isnull() == True)]['Survived'].count()))\n",
    "df_train['Age'].fillna(age_median, inplace=True)"
   ]
  },
  {
   "cell_type": "code",
   "execution_count": 9,
   "metadata": {},
   "outputs": [
    {
     "data": {
      "image/png": "[encoded data removed]",
      "text/plain": [
       "<Figure size 432x288 with 1 Axes>"
      ]
     },
     "metadata": {
      "needs_background": "light"
     },
     "output_type": "display_data"
    },
    {
     "data": {
      "image/png": "[encoded data removed]",
      "text/plain": [
       "<Figure size 432x288 with 1 Axes>"
      ]
     },
     "metadata": {
      "needs_background": "light"
     },
     "output_type": "display_data"
    },
    {
     "data": {
      "image/png": "[encoded data removed]",
      "text/plain": [
       "<Figure size 432x288 with 1 Axes>"
      ]
     },
     "metadata": {
      "needs_background": "light"
     },
     "output_type": "display_data"
    },
    {
     "data": {
      "image/png": "[encoded data removed]",
      "text/plain": [
       "<Figure size 432x288 with 1 Axes>"
      ]
     },
     "metadata": {
      "needs_background": "light"
     },
     "output_type": "display_data"
    }
   ],
   "source": [
    "numerical = ['Age', 'SibSp', 'Parch', 'Fare']\n",
    "%matplotlib inline\n",
    "import matplotlib.pyplot as plt\n",
    "\n",
    "for col in numerical:\n",
    "    if is_numeric_dtype(df_train[col]) == True:\n",
    "        df_train[df_train[col]>0][col].plot.hist(bins=50, grid=True, legend=None)\n",
    "        plt.title(col)\n",
    "        plt.show()"
   ]
  },
  {
   "cell_type": "code",
   "execution_count": 10,
   "metadata": {},
   "outputs": [
    {
     "name": "stdout",
     "output_type": "stream",
     "text": [
      "     Pclass       Sex  Embarked\n",
      "0  0.383838  0.383838  0.383838\n",
      "1  0.383838  0.383838  0.383838\n",
      "2  0.191919  0.691919  0.191919\n",
      "3  0.691919  0.794613  0.461279\n",
      "4  0.461279  0.191919  0.595960\n",
      "5  0.345960  0.127946  0.383838\n",
      "6  0.794613  0.095960  0.476768\n",
      "7  0.276768  0.076768  0.397306\n",
      "8  0.230640  0.845960  0.340548\n",
      "9  0.383838  0.876768  0.691919\n"
     ]
    }
   ],
   "source": [
    "CATBoostENCODE = encoders.CatBoostEncoder()\n",
    "categorical = ['Pclass', 'Sex', 'Embarked']\n",
    "\n",
    "# Cast teh Pclass from integer to string so that we can apply the categorical encoding later\n",
    "df_train['Pclass'] = df_train['Pclass'].astype(str)\n",
    "\n",
    "df_target = df_train['Survived'].astype(str)\n",
    "\n",
    "# Use CatBoost to encode the categorical values\n",
    "encoder_cat = CATBoostENCODE.fit_transform(df_train[categorical], df_target)\n",
    "encoded_cat = pd.DataFrame(encoder_cat)\n",
    "print(encoded_cat.head(10))"
   ]
  },
  {
   "cell_type": "code",
   "execution_count": 11,
   "metadata": {},
   "outputs": [
    {
     "name": "stdout",
     "output_type": "stream",
     "text": [
      "<class 'pandas.core.frame.DataFrame'>\n",
      "RangeIndex: 891 entries, 0 to 890\n",
      "Data columns (total 8 columns):\n",
      " #   Column    Non-Null Count  Dtype  \n",
      "---  ------    --------------  -----  \n",
      " 0   Survived  891 non-null    int64  \n",
      " 1   Age       891 non-null    float64\n",
      " 2   SibSp     891 non-null    int64  \n",
      " 3   Parch     891 non-null    int64  \n",
      " 4   Fare      891 non-null    float64\n",
      " 5   Pclass    891 non-null    float64\n",
      " 6   Sex       891 non-null    float64\n",
      " 7   Embarked  891 non-null    float64\n",
      "dtypes: float64(5), int64(3)\n",
      "memory usage: 55.8 KB\n"
     ]
    }
   ],
   "source": [
    "df_model_data = df_train.copy()\n",
    "df_model_data.drop(categorical, axis = 1, inplace=True)\n",
    "df_model_data = pd.concat([df_model_data, encoded_cat], axis=1)\n",
    "df_model_data.info()"
   ]
  },
  {
   "cell_type": "code",
   "execution_count": 15,
   "metadata": {},
   "outputs": [],
   "source": [
    "def get_oversample (features, label):\n",
    "\n",
    "    smote = SMOTE()\n",
    "    \n",
    "    X_smote, Y_smote = smote.fit_resample(features, label)\n",
    "    print(\"length of original data is \",len(features))\n",
    "    print(\"Proportion of True data in original data is \",len(label[label['Survived']==1])/len(label))\n",
    "    print(\"Proportion of False data in original data is \",len(label[label['Survived']==0])/len(label))\n",
    "\n",
    "    print(\"length of oversampled data is \",len(X_smote))\n",
    "    print(\"Proportion of True data in oversampled data is \",len(Y_smote[Y_smote['Survived']==1])/len(Y_smote))\n",
    "    print(\"Proportion of False data in oversampled data is \",len(Y_smote[Y_smote['Survived']==0])/len(Y_smote))\n",
    "   \n",
    "    return X_smote, Y_smote, features, label"
   ]
  },
  {
   "cell_type": "code",
   "execution_count": 16,
   "metadata": {},
   "outputs": [
    {
     "name": "stdout",
     "output_type": "stream",
     "text": [
      "length of original data is  891\n",
      "Proportion of True data in original data is  0.3838383838383838\n",
      "Proportion of False data in original data is  0.6161616161616161\n",
      "length of oversampled data is  1098\n",
      "Proportion of True data in oversampled data is  0.5\n",
      "Proportion of False data in oversampled data is  0.5\n"
     ]
    }
   ],
   "source": [
    "Y = df_model_data.iloc[:,0:1]\n",
    "X = df_model_data.iloc[:,1:]\n",
    "X_smote, Y_smote, X_train,Y_train = get_oversample(X, Y)"
   ]
  },
  {
   "cell_type": "markdown",
   "metadata": {},
   "source": [
    "## GRID SEARCH"
   ]
  },
  {
   "cell_type": "markdown",
   "metadata": {},
   "source": [
    "### RANDOM FOREST"
   ]
  },
  {
   "cell_type": "code",
   "execution_count": 17,
   "metadata": {},
   "outputs": [],
   "source": [
    "# parameter list\n",
    "p_cv = 5\n",
    "p_score = 'accuracy'\n",
    "\n",
    "# Maximum number of depth in each tree:\n",
    "max_depth = [7,8,9,10,11,12]\n",
    "# Minimum number of samples to consider at each leaf node:\n",
    "min_samples_leaf = [10,15,20,40,60,80]## Decision Tree\n",
    "# Minimum number of samples to consider to split a node:\n",
    "min_samples_split = [10,15,20,40]\n",
    "# No. of estimators\n",
    "estimators = [50, 100, 150, 200,300,500]\n",
    "\n",
    "clf = RandomForestClassifier()\n",
    "forest_params_grid={'n_estimators':estimators,\n",
    "           'max_depth':max_depth,\n",
    "           'min_samples_split':min_samples_split,\n",
    "           'min_samples_leaf':min_samples_leaf}\n",
    "\n",
    "cv = model_selection.StratifiedKFold(n_splits=p_cv, random_state=56456, shuffle=True)\n",
    "model = model_selection.GridSearchCV(estimator= clf, param_grid=forest_params_grid, cv=cv, scoring=p_score, n_jobs=-1, verbose=1)"
   ]
  },
  {
   "cell_type": "code",
   "execution_count": 19,
   "metadata": {},
   "outputs": [
    {
     "name": "stdout",
     "output_type": "stream",
     "text": [
      "Fitting 5 folds for each of 864 candidates, totalling 4320 fits\n",
      "{'max_depth': 12, 'min_samples_leaf': 10, 'min_samples_split': 20, 'n_estimators': 500}\n",
      "RandomForestClassifier(max_depth=12, min_samples_leaf=10, min_samples_split=20,\n",
      "                       n_estimators=500)\n"
     ]
    }
   ],
   "source": [
    "model.fit(X_smote, Y_smote.values.ravel())\n",
    "print(model.best_estimator_)"
   ]
  }
 ],
 "metadata": {
  "interpreter": {
   "hash": "fbcc1eec51d10e8d5cdcc21f160636fa163959b1399dd3e654e479c291d5e1c6"
  },
  "kernelspec": {
   "display_name": "Python 3.8.12 64-bit ('kaggle': conda)",
   "name": "python3"
  },
  "language_info": {
   "codemirror_mode": {
    "name": "ipython",
    "version": 3
   },
   "file_extension": ".py",
   "mimetype": "text/x-python",
   "name": "python",
   "nbconvert_exporter": "python",
   "pygments_lexer": "ipython3",
   "version": "3.8.12"
  },
  "orig_nbformat": 4
 },
 "nbformat": 4,
 "nbformat_minor": 2
}
